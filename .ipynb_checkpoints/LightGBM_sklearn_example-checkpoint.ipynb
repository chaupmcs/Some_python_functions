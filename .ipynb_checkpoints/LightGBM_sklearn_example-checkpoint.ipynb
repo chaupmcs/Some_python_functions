{
 "cells": [
  {
   "cell_type": "code",
   "execution_count": 35,
   "metadata": {},
   "outputs": [
    {
     "data": {
      "text/html": [
       "<style>.container { width:100% !important; }</style>"
      ],
      "text/plain": [
       "<IPython.core.display.HTML object>"
      ]
     },
     "metadata": {},
     "output_type": "display_data"
    }
   ],
   "source": [
    "# coding: utf-8\n",
    "# pylint: disable = invalid-name, C0111\n",
    "import numpy as np\n",
    "import pandas as pd\n",
    "import lightgbm as lgb\n",
    "\n",
    "%matplotlib inline\n",
    "import matplotlib.pyplot as plt\n",
    "\n",
    "from IPython.core.display import display, HTML\n",
    "display(HTML(\"<style>.container { width:100% !important; }</style>\"))\n",
    "\n",
    "import os\n",
    "os.environ['KMP_DUPLICATE_LIB_OK']='True'  # fix error on MAC_OS\n",
    "\n",
    "import numpy as np\n",
    "\n",
    "from sklearn.datasets import make_hastie_10_2\n",
    "from sklearn.model_selection import GridSearchCV\n",
    "from sklearn.metrics import make_scorer\n",
    "from sklearn.metrics import accuracy_score\n",
    "from sklearn.metrics import mean_squared_error, mean_absolute_error, r2_score\n",
    "from sklearn.tree import DecisionTreeClassifier\n",
    "\n",
    "from sklearn.metrics import mean_squared_error\n",
    "\n",
    "import sklearn\n",
    "\n",
    "from sklearn.naive_bayes import GaussianNB\n",
    "from sklearn.datasets import load_digits\n",
    "from sklearn.model_selection import learning_curve, validation_curve\n",
    "from sklearn.model_selection import ShuffleSplit\n",
    "\n",
    "import datetime\n",
    "from datetime import datetime\n",
    "\n",
    "import json\n",
    "\n",
    "import mlflow\n",
    "import mlflow.sklearn"
   ]
  },
  {
   "cell_type": "code",
   "execution_count": 3,
   "metadata": {},
   "outputs": [
    {
     "name": "stdout",
     "output_type": "stream",
     "text": [
      "Loading data...\n",
      "Done load data\n"
     ]
    }
   ],
   "source": [
    "#### LOAD DATA \n",
    "print('Loading data...')\n",
    "# load or create your dataset\n",
    "df_train = pd.read_csv('./data/regression.train', header=None, sep='\\t')\n",
    "df_test = pd.read_csv('./data/regression.test', header=None, sep='\\t')\n",
    "\n",
    "y_train = df_train[0]\n",
    "y_test = df_test[0]\n",
    "X_train = df_train.drop(0, axis=1)\n",
    "X_test = df_test.drop(0, axis=1)\n",
    "\n",
    "print(\"Done load data\")"
   ]
  },
  {
   "cell_type": "markdown",
   "metadata": {},
   "source": [
    "# BASIC USE \n"
   ]
  },
  {
   "cell_type": "code",
   "execution_count": 6,
   "metadata": {},
   "outputs": [
    {
     "name": "stdout",
     "output_type": "stream",
     "text": [
      "Starting training...\n",
      "lgb_model = LGBMRegressor(boosting_type='gbdt', class_weight=None, colsample_bytree=1.0,\n",
      "       importance_type='gain', learning_rate=0.1, max_depth=10,\n",
      "       min_child_samples=20, min_child_weight=0.001, min_split_gain=0.0,\n",
      "       n_estimators=200, n_jobs=2, num_leaves=32,\n",
      "       objective='mean_squared_error', random_state=None, reg_alpha=0.0,\n",
      "       reg_lambda=0.0, silent=False, subsample=1.0,\n",
      "       subsample_for_bin=200000, subsample_freq=0)\n",
      "--------\n",
      "Training until validation scores don't improve for 5 rounds.\n",
      "[10]\ttraining's l2: 0.189854\ttraining's RMSLE_NAME: 0.308373\tvalid_1's l2: 0.195852\tvalid_1's RMSLE_NAME: 0.310088\n",
      "[20]\ttraining's l2: 0.166656\ttraining's RMSLE_NAME: 0.288926\tvalid_1's l2: 0.18119\tvalid_1's RMSLE_NAME: 0.297588\n",
      "[30]\ttraining's l2: 0.151799\ttraining's RMSLE_NAME: 0.275926\tvalid_1's l2: 0.174135\tvalid_1's RMSLE_NAME: 0.291133\n",
      "Early stopping, best iteration is:\n",
      "[34]\ttraining's l2: 0.146961\ttraining's RMSLE_NAME: 0.271603\tvalid_1's l2: 0.173624\tvalid_1's RMSLE_NAME: 0.290576\n",
      "Starting predicting...\n",
      "The rmse of prediction is: 0.416682665328729\n"
     ]
    }
   ],
   "source": [
    "print('Starting training...')\n",
    "# train \n",
    "\n",
    "params = {\n",
    "   'boosting_type':'gbdt', \n",
    "   'class_weight':None, 'colsample_bytree':1.0,\n",
    "   'importance_type':'gain', 'learning_rate':0.1, 'max_depth':10,\n",
    "   'min_child_samples':20, 'min_child_weight':0.001, 'min_split_gain':0.0,\n",
    "   'n_estimators':200, 'n_jobs':2, 'num_leaves':32, 'objective': 'mean_squared_error',\n",
    "   'random_state':None, 'reg_alpha':0.0, 'reg_lambda':0.0, 'silent':False,\n",
    "   'subsample':1.0, 'subsample_for_bin':200000, 'subsample_freq':0\n",
    "}\n",
    "\n",
    "lgb_model = lgb.LGBMRegressor(**params)\n",
    "print(\"lgb_model = {}\\n--------\".format(lgb_model))\n",
    "\n",
    "\n",
    "\n",
    "# self-defined eval metric\n",
    "# f(y_true: array, y_pred: array) -> name: string, eval_result: float, is_higher_better: bool\n",
    "# Root Mean Squared Logarithmic Error (RMSLE)\n",
    "def rmsle_func(y_true, y_pred):\n",
    "    return 'RMSLE_NAME', np.sqrt(np.mean(np.power(np.log1p(y_pred) - np.log1p(y_true), 2))), False\n",
    "\n",
    "\n",
    "record_store = dict()\n",
    "lgb_model.fit(X_train, y_train, eval_set=[(X_train, y_train), (X_test, y_test)], eval_metric = rmsle_func, \\\n",
    "              early_stopping_rounds=5, verbose = 10, callbacks = [lgb.record_evaluation(record_store)])\n",
    "\n",
    "print('Starting predicting...')\n",
    "# predict\n",
    "y_pred = lgb_model.predict(X_test, num_iteration=lgb_model.best_iteration_)\n",
    "# eval\n",
    "print('The rmse of prediction is:', mean_squared_error(y_test, y_pred) ** 0.5)"
   ]
  },
  {
   "cell_type": "markdown",
   "metadata": {},
   "source": [
    "## Plot metric during training"
   ]
  },
  {
   "cell_type": "code",
   "execution_count": 7,
   "metadata": {},
   "outputs": [
    {
     "data": {
      "text/html": [
       "<div>\n",
       "<style scoped>\n",
       "    .dataframe tbody tr th:only-of-type {\n",
       "        vertical-align: middle;\n",
       "    }\n",
       "\n",
       "    .dataframe tbody tr th {\n",
       "        vertical-align: top;\n",
       "    }\n",
       "\n",
       "    .dataframe thead th {\n",
       "        text-align: right;\n",
       "    }\n",
       "</style>\n",
       "<table border=\"1\" class=\"dataframe\">\n",
       "  <thead>\n",
       "    <tr style=\"text-align: right;\">\n",
       "      <th></th>\n",
       "      <th>training</th>\n",
       "      <th>valid_1</th>\n",
       "    </tr>\n",
       "  </thead>\n",
       "  <tbody>\n",
       "    <tr>\n",
       "      <th>RMSLE_NAME</th>\n",
       "      <td>[0.3438312429913439, 0.3378780233904609, 0.332...</td>\n",
       "      <td>[0.3413526395461168, 0.33536859371159383, 0.33...</td>\n",
       "    </tr>\n",
       "    <tr>\n",
       "      <th>l2</th>\n",
       "      <td>[0.23854862758873377, 0.229717844884507, 0.222...</td>\n",
       "      <td>[0.237514285089172, 0.22882862025011821, 0.222...</td>\n",
       "    </tr>\n",
       "  </tbody>\n",
       "</table>\n",
       "</div>"
      ],
      "text/plain": [
       "                                                     training  \\\n",
       "RMSLE_NAME  [0.3438312429913439, 0.3378780233904609, 0.332...   \n",
       "l2          [0.23854862758873377, 0.229717844884507, 0.222...   \n",
       "\n",
       "                                                      valid_1  \n",
       "RMSLE_NAME  [0.3413526395461168, 0.33536859371159383, 0.33...  \n",
       "l2          [0.237514285089172, 0.22882862025011821, 0.222...  "
      ]
     },
     "execution_count": 7,
     "metadata": {},
     "output_type": "execute_result"
    }
   ],
   "source": [
    "pd.DataFrame(record_store)"
   ]
  },
  {
   "cell_type": "code",
   "execution_count": 8,
   "metadata": {},
   "outputs": [
    {
     "data": {
      "text/plain": [
       "<matplotlib.axes._subplots.AxesSubplot at 0x7f3e07d9d6d8>"
      ]
     },
     "execution_count": 8,
     "metadata": {},
     "output_type": "execute_result"
    },
    {
     "data": {
      "image/png": "[encoded data removed]",
      "text/plain": [
       "<Figure size 432x288 with 1 Axes>"
      ]
     },
     "metadata": {
      "needs_background": "light"
     },
     "output_type": "display_data"
    },
    {
     "data": {
      "image/png": "[encoded data removed]",
      "text/plain": [
       "<Figure size 432x288 with 1 Axes>"
      ]
     },
     "metadata": {
      "needs_background": "light"
     },
     "output_type": "display_data"
    }
   ],
   "source": [
    "lgb.plot_metric(record_store, metric = 'RMSLE_NAME')\n",
    "lgb.plot_metric(record_store, metric = 'l2')"
   ]
  },
  {
   "cell_type": "markdown",
   "metadata": {},
   "source": [
    "## Plot individual tree"
   ]
  },
  {
   "cell_type": "code",
   "execution_count": 9,
   "metadata": {},
   "outputs": [
    {
     "name": "stdout",
     "output_type": "stream",
     "text": [
      "Plotting 11th tree with graphviz...\n"
     ]
    },
    {
     "data": {
      "text/plain": [
       "'Tree_11.gv.pdf'"
      ]
     },
     "execution_count": 9,
     "metadata": {},
     "output_type": "execute_result"
    }
   ],
   "source": [
    "tree_i = 11\n",
    "print('Plotting {}th tree with graphviz...'.format(tree_i))\n",
    "graph = lgb.create_tree_digraph(lgb_model, tree_index= tree_i - 1, name='Tree_'+ str(tree_i)) # tree_index default = 0\n",
    "\n",
    "### show in pdf\n",
    "graph.render(view=True)    \n",
    "\n",
    "\n",
    "## show in jupyter\n",
    "# graph"
   ]
  },
  {
   "cell_type": "code",
   "execution_count": 172,
   "metadata": {},
   "outputs": [
    {
     "data": {
      "text/plain": [
       "<matplotlib.axes._subplots.AxesSubplot at 0x1a4c2c3710>"
      ]
     },
     "execution_count": 172,
     "metadata": {},
     "output_type": "execute_result"
    },
    {
     "data": {
      "image/png": "[encoded data removed]",
      "text/plain": [
       "<Figure size 1440x720 with 1 Axes>"
      ]
     },
     "metadata": {
      "needs_background": "light"
     },
     "output_type": "display_data"
    }
   ],
   "source": [
    "# plot feature importances\n",
    "feature_names = list(range(X_train.shape[1]))\n",
    "lgbm_feature_importance = pd.DataFrame(lgb_model.feature_importances_, index=feature_names, columns=[\"score\"]).sort_values(by=\"score\", ascending=False)\n",
    "lgbm_feature_importance.nlargest(40, columns=\"score\").plot(kind='barh', figsize = (20,10))"
   ]
  },
  {
   "cell_type": "code",
   "execution_count": 18,
   "metadata": {},
   "outputs": [],
   "source": [
    "#############\n",
    "#### USE light gbm with python (not SKlearn wrapper)\n",
    "# params_2 = {\n",
    "#     'boosting_type': 'gbdt',\n",
    "#     'objective': 'binary',\n",
    "#     'metric': 'binary_logloss',\n",
    "#     'num_leaves': 31,\n",
    "#     'learning_rate': 0.05,\n",
    "#     'feature_fraction': 0.9,\n",
    "#     'bagging_fraction': 0.2,\n",
    "#     'bagging_freq': 1,\n",
    "# }\n",
    "\n",
    "# lgb_train = lgb.Dataset(X_train, y_train)\n",
    "# gbm_2 = lgb.train(params=params_2,train_set=lgb_train,\n",
    "#                 num_boost_round=30, verbose_eval = 10,\n",
    "#                 valid_sets=lgb_train)\n",
    "\n",
    "\n",
    "\n",
    "###### dump to txt and json files\n",
    "\n",
    "# gbm_2.save_model('model.txt')\n",
    "\n",
    "# model_json = gbm_2.dump_model()\n",
    "# with open('model.json', 'w+') as f:\n",
    "#     json.dump(model_json, f, indent=4)"
   ]
  },
  {
   "cell_type": "code",
   "execution_count": null,
   "metadata": {},
   "outputs": [],
   "source": []
  },
  {
   "cell_type": "code",
   "execution_count": null,
   "metadata": {},
   "outputs": [],
   "source": []
  },
  {
   "cell_type": "markdown",
   "metadata": {},
   "source": [
    "## Use MLFlow"
   ]
  },
  {
   "cell_type": "code",
   "execution_count": 36,
   "metadata": {},
   "outputs": [
    {
     "name": "stdout",
     "output_type": "stream",
     "text": [
      "  Params: {'boosting_type': 'gbdt', 'class_weight': None, 'colsample_bytree': 1.0, 'importance_type': 'gain', 'learning_rate': 0.1, 'max_depth': 10, 'min_child_samples': 20, 'min_child_weight': 0.001, 'min_split_gain': 0.0, 'n_estimators': 200, 'n_jobs': 2, 'num_leaves': 32, 'objective': 'mean_squared_error', 'random_state': None, 'reg_alpha': 0.0, 'reg_lambda': 0.0, 'silent': False, 'subsample': 1.0, 'subsample_for_bin': 200000, 'subsample_freq': 0}\n",
      "  RMSE: 0.4128707167489853\n",
      "  MAE: 0.35581076618350965\n",
      "  R2: 0.31282963771921424\n"
     ]
    },
    {
     "data": {
      "image/png": "[encoded data removed]",
      "text/plain": [
       "<Figure size 432x288 with 1 Axes>"
      ]
     },
     "metadata": {
      "needs_background": "light"
     },
     "output_type": "display_data"
    }
   ],
   "source": [
    "def eval_metrics(actual, pred):\n",
    "    rmse = np.sqrt(mean_squared_error(actual, pred))\n",
    "    mae = mean_absolute_error(actual, pred)\n",
    "    r2 = r2_score(actual, pred)\n",
    "    return rmse, mae, r2\n",
    "\n",
    "\n",
    "with mlflow.start_run():\n",
    "\n",
    "    lgb_mlflow = lgb.LGBMRegressor(**params)\n",
    "    lgb_mlflow.fit(X_train, y_train)\n",
    "\n",
    "    predicted_qualities = lgb_mlflow.predict(X_test)\n",
    "\n",
    "    (rmse, mae, r2) = eval_metrics(y_test, predicted_qualities)\n",
    "\n",
    "        \n",
    "    f = lgb.plot_metric(record_store, metric = 'RMSLE_NAME')\n",
    "    name = \"output_\" + str(datetime.now()) + \".png\"\n",
    "    picture = f.get_figure().savefig(name, bbox_inches='tight')\n",
    "    \n",
    "    print(\"  Params: {}\".format(params))\n",
    "    print(\"  RMSE: %s\" % rmse)\n",
    "    print(\"  MAE: %s\" % mae)\n",
    "    print(\"  R2: %s\" % r2)\n",
    "\n",
    "    mlflow.log_param(\"param\", params)\n",
    "    mlflow.log_metric(\"rmse\", rmse)\n",
    "    mlflow.log_metric(\"r2\", r2)\n",
    "    mlflow.log_metric(\"mae\", mae)\n",
    "    mlflow.log_artifact(name)\n",
    "    \n",
    "    \n",
    "    \n",
    "    mlflow.sklearn.log_model(lgb_mlflow, \"model\")"
   ]
  },
  {
   "cell_type": "code",
   "execution_count": 38,
   "metadata": {},
   "outputs": [
    {
     "data": {
      "text/plain": [
       "LGBMRegressor(boosting_type='gbdt', class_weight=None, colsample_bytree=1.0,\n",
       "       importance_type='gain', learning_rate=0.1, max_depth=10,\n",
       "       min_child_samples=20, min_child_weight=0.001, min_split_gain=0.0,\n",
       "       n_estimators=200, n_jobs=2, num_leaves=32,\n",
       "       objective='mean_squared_error', random_state=None, reg_alpha=0.0,\n",
       "       reg_lambda=0.0, silent=False, subsample=1.0,\n",
       "       subsample_for_bin=200000, subsample_freq=0)"
      ]
     },
     "execution_count": 38,
     "metadata": {},
     "output_type": "execute_result"
    }
   ],
   "source": [
    "### load model\n",
    "_id = \"10494252abb943f7af346eb00dca12e0\"\n",
    "model_name = \"model\"\n",
    "\n",
    "sk_model = mlflow.sklearn.load_model(model_name, run_id = _id)\n",
    "sk_model"
   ]
  },
  {
   "cell_type": "code",
   "execution_count": null,
   "metadata": {},
   "outputs": [],
   "source": []
  },
  {
   "cell_type": "code",
   "execution_count": null,
   "metadata": {},
   "outputs": [],
   "source": []
  },
  {
   "cell_type": "markdown",
   "metadata": {},
   "source": [
    "## Grid Search"
   ]
  },
  {
   "cell_type": "code",
   "execution_count": 11,
   "metadata": {},
   "outputs": [
    {
     "name": "stdout",
     "output_type": "stream",
     "text": [
      "estimator = LGBMRegressor(boosting_type='gbdt', class_weight=None, colsample_bytree=1.0,\n",
      "       importance_type='gain', learning_rate=0.1, max_depth=10,\n",
      "       min_child_samples=21, min_child_weight=0.001, min_split_gain=0.0,\n",
      "       n_estimators=200, n_jobs=2, num_leaves=32, objective=None,\n",
      "       random_state=2019, reg_alpha=0.0, reg_lambda=0.0, silent=False,\n",
      "       subsample=1.0, subsample_for_bin=200000, subsample_freq=0)\n",
      "--------\n"
     ]
    }
   ],
   "source": [
    "# other scikit-learn modules\n",
    "from sklearn.model_selection import StratifiedKFold\n",
    "\n",
    "grid_record = dict()\n",
    "random_seed = 2019\n",
    "num_splits = 3\n",
    "\n",
    "lgb_params = {\n",
    "   'boosting_type':'gbdt', 'class_weight':None, 'colsample_bytree':1.0,\n",
    "   'importance_type':'gain', 'learning_rate':0.1, 'max_depth':10,\n",
    "   'min_child_samples':21, 'min_child_weight':0.001, 'min_split_gain':0.0,\n",
    "   'n_estimators':200, 'n_jobs':2, 'num_leaves':32, 'objective':None,\n",
    "   'random_state': random_seed, 'reg_alpha':0.0, 'reg_lambda':0.0, 'silent':False,\n",
    "   'subsample':1.0, 'subsample_for_bin':200000, 'subsample_freq':0\n",
    "}\n",
    "\n",
    "param_grid = {\n",
    "    'learning_rate': [0.05, 0.1],\n",
    "    'n_estimators': [100]\n",
    "}\n",
    "\n",
    "estimator = lgb.LGBMRegressor(**lgb_params)\n",
    "print(\"estimator = {}\\n--------\".format(estimator))\n",
    "\n",
    "cv = StratifiedKFold(n_splits = num_splits, random_state = random_seed)"
   ]
  },
  {
   "cell_type": "code",
   "execution_count": 30,
   "metadata": {},
   "outputs": [
    {
     "name": "stdout",
     "output_type": "stream",
     "text": [
      "Fitting 3 folds for each of 2 candidates, totalling 6 fits\n"
     ]
    },
    {
     "name": "stderr",
     "output_type": "stream",
     "text": [
      "[Parallel(n_jobs=-1)]: Using backend LokyBackend with 4 concurrent workers.\n",
      "[Parallel(n_jobs=-1)]: Done   2 out of   6 | elapsed:    1.9s remaining:    3.7s\n",
      "[Parallel(n_jobs=-1)]: Done   3 out of   6 | elapsed:    1.9s remaining:    1.9s\n",
      "[Parallel(n_jobs=-1)]: Done   4 out of   6 | elapsed:    1.9s remaining:    0.9s\n",
      "[Parallel(n_jobs=-1)]: Done   6 out of   6 | elapsed:    2.4s remaining:    0.0s\n",
      "[Parallel(n_jobs=-1)]: Done   6 out of   6 | elapsed:    2.4s finished\n"
     ]
    },
    {
     "name": "stdout",
     "output_type": "stream",
     "text": [
      "Best parameters found by grid search are: {'learning_rate': 0.05, 'n_estimators': 100}\n",
      "CPU times: user 694 ms, sys: 27.8 ms, total: 722 ms\n",
      "Wall time: 2.73 s\n"
     ]
    }
   ],
   "source": [
    "%%time\n",
    "\n",
    "##### sorted(sklearn.metrics.SCORERS.keys())   # Scorers in grid\n",
    "## method 1:\n",
    "grid_model = GridSearchCV(estimator, param_grid, cv = cv, verbose=10, return_train_score = False,\\\n",
    "                              scoring = \"neg_mean_squared_error\", n_jobs=-1)\n",
    "\n",
    "\n",
    "## method 2: use self-defined func\n",
    "# mean_squared_error_func = make_scorer(mean_squared_error, greater_is_better=True)\n",
    "# grid_model = GridSearchCV(estimator, param_grid, cv = cv, verbose=10, return_train_score = False,\\\n",
    "#                               scoring = mean_squared_error_func, n_jobs=-1)\n",
    "\n",
    "\n",
    "grid_model.fit(X_train, y_train)\n",
    "\n",
    "print('Best parameters found by grid search are:', grid_model.best_params_)"
   ]
  },
  {
   "cell_type": "code",
   "execution_count": 15,
   "metadata": {},
   "outputs": [
    {
     "data": {
      "text/plain": [
       "{'learning_rate': 0.05, 'n_estimators': 100}"
      ]
     },
     "execution_count": 15,
     "metadata": {},
     "output_type": "execute_result"
    }
   ],
   "source": [
    "grid_model.best_params_"
   ]
  },
  {
   "cell_type": "code",
   "execution_count": 16,
   "metadata": {},
   "outputs": [
    {
     "data": {
      "text/html": [
       "<div>\n",
       "<style scoped>\n",
       "    .dataframe tbody tr th:only-of-type {\n",
       "        vertical-align: middle;\n",
       "    }\n",
       "\n",
       "    .dataframe tbody tr th {\n",
       "        vertical-align: top;\n",
       "    }\n",
       "\n",
       "    .dataframe thead th {\n",
       "        text-align: right;\n",
       "    }\n",
       "</style>\n",
       "<table border=\"1\" class=\"dataframe\">\n",
       "  <thead>\n",
       "    <tr style=\"text-align: right;\">\n",
       "      <th></th>\n",
       "      <th>mean_fit_time</th>\n",
       "      <th>std_fit_time</th>\n",
       "      <th>mean_score_time</th>\n",
       "      <th>std_score_time</th>\n",
       "      <th>param_learning_rate</th>\n",
       "      <th>param_n_estimators</th>\n",
       "      <th>params</th>\n",
       "      <th>split0_test_score</th>\n",
       "      <th>split1_test_score</th>\n",
       "      <th>split2_test_score</th>\n",
       "      <th>mean_test_score</th>\n",
       "      <th>std_test_score</th>\n",
       "      <th>rank_test_score</th>\n",
       "    </tr>\n",
       "  </thead>\n",
       "  <tbody>\n",
       "    <tr>\n",
       "      <th>0</th>\n",
       "      <td>0.843840</td>\n",
       "      <td>0.078201</td>\n",
       "      <td>0.030166</td>\n",
       "      <td>0.002084</td>\n",
       "      <td>0.05</td>\n",
       "      <td>100</td>\n",
       "      <td>{'learning_rate': 0.05, 'n_estimators': 100}</td>\n",
       "      <td>-0.191631</td>\n",
       "      <td>-0.194401</td>\n",
       "      <td>-0.194129</td>\n",
       "      <td>-0.193387</td>\n",
       "      <td>0.001246</td>\n",
       "      <td>1</td>\n",
       "    </tr>\n",
       "    <tr>\n",
       "      <th>1</th>\n",
       "      <td>0.705867</td>\n",
       "      <td>0.160576</td>\n",
       "      <td>0.019464</td>\n",
       "      <td>0.006152</td>\n",
       "      <td>0.1</td>\n",
       "      <td>100</td>\n",
       "      <td>{'learning_rate': 0.1, 'n_estimators': 100}</td>\n",
       "      <td>-0.194583</td>\n",
       "      <td>-0.197804</td>\n",
       "      <td>-0.196807</td>\n",
       "      <td>-0.196398</td>\n",
       "      <td>0.001346</td>\n",
       "      <td>2</td>\n",
       "    </tr>\n",
       "  </tbody>\n",
       "</table>\n",
       "</div>"
      ],
      "text/plain": [
       "   mean_fit_time  std_fit_time  mean_score_time  std_score_time  \\\n",
       "0       0.843840      0.078201         0.030166        0.002084   \n",
       "1       0.705867      0.160576         0.019464        0.006152   \n",
       "\n",
       "  param_learning_rate param_n_estimators  \\\n",
       "0                0.05                100   \n",
       "1                 0.1                100   \n",
       "\n",
       "                                         params  split0_test_score  \\\n",
       "0  {'learning_rate': 0.05, 'n_estimators': 100}          -0.191631   \n",
       "1   {'learning_rate': 0.1, 'n_estimators': 100}          -0.194583   \n",
       "\n",
       "   split1_test_score  split2_test_score  mean_test_score  std_test_score  \\\n",
       "0          -0.194401          -0.194129        -0.193387        0.001246   \n",
       "1          -0.197804          -0.196807        -0.196398        0.001346   \n",
       "\n",
       "   rank_test_score  \n",
       "0                1  \n",
       "1                2  "
      ]
     },
     "execution_count": 16,
     "metadata": {},
     "output_type": "execute_result"
    }
   ],
   "source": [
    "pd.DataFrame(grid_model.cv_results_).sort_values('rank_test_score')"
   ]
  },
  {
   "cell_type": "code",
   "execution_count": null,
   "metadata": {},
   "outputs": [],
   "source": []
  },
  {
   "cell_type": "code",
   "execution_count": null,
   "metadata": {},
   "outputs": [],
   "source": []
  },
  {
   "cell_type": "code",
   "execution_count": null,
   "metadata": {},
   "outputs": [],
   "source": []
  },
  {
   "cell_type": "markdown",
   "metadata": {},
   "source": [
    "### plot learning curve (training_valid errors by num_data_size)"
   ]
  },
  {
   "cell_type": "code",
   "execution_count": 17,
   "metadata": {},
   "outputs": [
    {
     "data": {
      "text/plain": [
       "<module 'matplotlib.pyplot' from '/home/cpu11158/anaconda3/envs/py36_env/lib/python3.6/site-packages/matplotlib/pyplot.py'>"
      ]
     },
     "execution_count": 17,
     "metadata": {},
     "output_type": "execute_result"
    },
    {
     "data": {
      "image/png": "[encoded data removed]",
      "text/plain": [
       "<Figure size 432x288 with 1 Axes>"
      ]
     },
     "metadata": {
      "needs_background": "light"
     },
     "output_type": "display_data"
    }
   ],
   "source": [
    "\n",
    "def plot_learning_curve(estimator, title, X, y, ylim=None, cv=None,\n",
    "                        n_jobs=1, train_sizes=np.linspace(.1, 1.0, 5)):\n",
    "    \"\"\"\n",
    "    Generate a simple plot of the test and traning learning curve.\n",
    "\n",
    "    Parameters\n",
    "    ----------\n",
    "    estimator : object type that implements the \"fit\" and \"predict\" methods\n",
    "        An object of that type which is cloned for each validation.\n",
    "\n",
    "    title : string\n",
    "        Title for the chart.\n",
    "\n",
    "    X : array-like, shape (n_samples, n_features)\n",
    "        Training vector, where n_samples is the number of samples and\n",
    "        n_features is the number of features.\n",
    "\n",
    "    y : array-like, shape (n_samples) or (n_samples, n_features), optional\n",
    "        Target relative to X for classification or regression;\n",
    "        None for unsupervised learning.\n",
    "\n",
    "    ylim : tuple, shape (ymin, ymax), optional\n",
    "        Defines minimum and maximum yvalues plotted.\n",
    "\n",
    "    cv : integer, cross-validation generator, optional\n",
    "        If an integer is passed, it is the number of folds (defaults to 3).\n",
    "        Specific cross-validation objects can be passed, see\n",
    "        sklearn.cross_validation module for the list of possible objects\n",
    "\n",
    "    n_jobs : integer, optional\n",
    "        Number of jobs to run in parallel (default 1).\n",
    "    \"\"\"\n",
    "    plt.figure()\n",
    "    plt.title(title)\n",
    "    if ylim is not None:\n",
    "        plt.ylim(*ylim)\n",
    "    plt.xlabel(\"Training examples\")\n",
    "    plt.ylabel(\"Score\")\n",
    "    train_sizes, train_scores, test_scores = learning_curve(\n",
    "        estimator, X, y, cv = cv, n_jobs=n_jobs, train_sizes = train_sizes)\n",
    "    train_scores_mean = np.mean(train_scores, axis=1)\n",
    "    train_scores_std = np.std(train_scores, axis=1)\n",
    "    test_scores_mean = np.mean(test_scores, axis=1)\n",
    "    test_scores_std = np.std(test_scores, axis=1)\n",
    "    plt.grid()\n",
    "\n",
    "    plt.fill_between(train_sizes, train_scores_mean - train_scores_std,\n",
    "                     train_scores_mean + train_scores_std, alpha=0.1,\n",
    "                     color=\"r\")\n",
    "    plt.fill_between(train_sizes, test_scores_mean - test_scores_std,\n",
    "                     test_scores_mean + test_scores_std, alpha=0.1, color=\"g\")\n",
    "    plt.plot(train_sizes, train_scores_mean, 'o-', color=\"r\",\n",
    "             label=\"Training score\")\n",
    "    plt.plot(train_sizes, test_scores_mean, 'o-', color=\"g\",\n",
    "             label=\"Cross-validation score\")\n",
    "\n",
    "    plt.legend(loc=\"best\")\n",
    "    return plt\n",
    "\n",
    "\n",
    "plot_learning_curve(grid_model.best_estimator_, \"plot learning curve\", X_train, y_train, ylim=(0, 1.05), cv = cv, n_jobs= -1)"
   ]
  },
  {
   "cell_type": "code",
   "execution_count": 40,
   "metadata": {},
   "outputs": [],
   "source": [
    "import pickle\n",
    "with open('/chau/aaaaa/mlruns/0/194c3e4a381c48b7b6b91f5fce697235/artifacts/model/model.pkl', 'rb') as handle:\n",
    "    md = pickle.load(handle)"
   ]
  },
  {
   "cell_type": "code",
   "execution_count": 41,
   "metadata": {},
   "outputs": [
    {
     "data": {
      "text/plain": [
       "<lightgbm.basic.Booster at 0x7f3e07cc58d0>"
      ]
     },
     "execution_count": 41,
     "metadata": {},
     "output_type": "execute_result"
    }
   ],
   "source": [
    "md"
   ]
  },
  {
   "cell_type": "code",
   "execution_count": 50,
   "metadata": {},
   "outputs": [
    {
     "name": "stdout",
     "output_type": "stream",
     "text": [
      "Plotting 200th tree with graphviz...\n"
     ]
    },
    {
     "data": {
      "text/plain": [
       "'Tree_200.gv.pdf'"
      ]
     },
     "execution_count": 50,
     "metadata": {},
     "output_type": "execute_result"
    }
   ],
   "source": [
    "tree_i = 200\n",
    "print('Plotting {}th tree with graphviz...'.format(tree_i))\n",
    "graph = lgb.create_tree_digraph(md, tree_index= tree_i - 1, name='Tree_'+ str(tree_i)) # tree_index default = 0\n",
    "\n",
    "### show in pdf\n",
    "graph.render(view=True)    \n",
    "\n",
    "\n",
    "## show in jupyter\n",
    "# graph"
   ]
  },
  {
   "cell_type": "code",
   "execution_count": 47,
   "metadata": {},
   "outputs": [
    {
     "data": {
      "text/plain": [
       "200"
      ]
     },
     "execution_count": 47,
     "metadata": {},
     "output_type": "execute_result"
    }
   ],
   "source": [
    "md.best_iteration"
   ]
  },
  {
   "cell_type": "code",
   "execution_count": null,
   "metadata": {},
   "outputs": [],
   "source": []
  }
 ],
 "metadata": {
  "kernelspec": {
   "display_name": "py3.6",
   "language": "python",
   "name": "python3.6"
  },
  "language_info": {
   "codemirror_mode": {
    "name": "ipython",
    "version": 3
   },
   "file_extension": ".py",
   "mimetype": "text/x-python",
   "name": "python",
   "nbconvert_exporter": "python",
   "pygments_lexer": "ipython3",
   "version": "3.6.6"
  }
 },
 "nbformat": 4,
 "nbformat_minor": 2
}
