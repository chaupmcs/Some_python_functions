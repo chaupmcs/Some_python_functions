{
 "cells": [
  {
   "cell_type": "code",
   "execution_count": null,
   "metadata": {},
   "outputs": [],
   "source": [
    "import sys\n",
    "print(sys.version)\n",
    "\n",
    "# tut for python elasticsearch #"
   ]
  },
  {
   "cell_type": "code",
   "execution_count": null,
   "metadata": {},
   "outputs": [],
   "source": [
    "import os\n",
    "import pprint\n",
    "import requests\n",
    "import json\n",
    "pp = pprint.PrettyPrinter(indent=4)\n",
    "\n",
    "\n",
    "host ='locahost'\n",
    "port = '9200'\n",
    "url = 'http://' + host + \":\" + port\n",
    "#os.environ['no_proxy'] = '127.0.0.1,localhost' + ',' + host\n",
    "\n",
    "res = requests.get(url)\n",
    "pp.pprint(res.content)"
   ]
  },
  {
   "cell_type": "code",
   "execution_count": null,
   "metadata": {},
   "outputs": [],
   "source": [
    "#!pip install elasticsearch\n",
    "from elasticsearch import Elasticsearch\n",
    "\n",
    "elastic = Elasticsearch([{'host': host, 'port': port}])\n",
    "SIZE = 10000\n",
    "data_dumps_path = \"your_path\""
   ]
  },
  {
   "cell_type": "code",
   "execution_count": null,
   "metadata": {},
   "outputs": [],
   "source": [
    "def get_list_of_indices(elastic):\n",
    "    return list(elastic.indices.get_alias().keys())\n",
    "\n",
    "def dump_to_file(elastic, data_dumps_path, size = SIZE):\n",
    "    list_indices = get_list_of_indices(elastic)\n",
    "    \n",
    "    for i in range(len(list_indices)):\n",
    "        index_req=list_indices[i]\n",
    "        response = elastic.search(\n",
    "        index=index_req,\n",
    "        body={\n",
    "            \"query\": {\n",
    "                \"match_all\": {}\n",
    "            },\n",
    "            \"size\":SIZE\n",
    "        }\n",
    "        )\n",
    "        with open((data_dumps_path + index_req + '.json'), 'w') as f:\n",
    "          json.dump(response[\"hits\"][\"hits\"], f, ensure_ascii=False)\n",
    "    print(\"Done\")\n",
    "        \n",
    "def curl_search_by_index(index_list, host, port):\n",
    "    for index in index_list:\n",
    "        curl_command = 'curl -X GET \"' + str(host) + ':' + str(port) + '/Z/_search\"'\n",
    "        new_command = curl_command.replace('Z', index)\n",
    "        print(new_command)\n",
    "    print(\"Done\")\n",
    "    \n",
    "    \n",
    "def search_by_index(elastic, a_index, size = SIZE):\n",
    "    response = elastic.search(\n",
    "        index = a_index,\n",
    "        body = {\n",
    "            \"query\": {\n",
    "                \"match_all\": {}\n",
    "            },\n",
    "            \"size\":size\n",
    "        })\n",
    "    print(response[\"hits\"][\"hits\"])\n",
    "    print(\"Done\")\n",
    "    \n",
    "def print_data_from_index(index_, size = SIZE):\n",
    "    response = esclient.search(\n",
    "        index = index_,\n",
    "        body={\n",
    "            \"query\": {\n",
    "                \"match_all\": {}\n",
    "            },\n",
    "            \"size\":size\n",
    "        }\n",
    "    )\n",
    "    print(json.dumps(response, indent=4))\n",
    "    print(\"done\")\n",
    "    \n",
    "def update_data(es, doc_type_, index_):\n",
    "#     q = {\n",
    "#       \"script\": \n",
    "#       {\n",
    "#             \"lang\": \"groovy\",\n",
    "#             \"inline\": \"for (int i=0; i < ctx._source.transfers.size();i++) \\\n",
    "#                   {ctx._source.transfers[i]['data']['new_field'] = 1;}\"\n",
    "#       }\n",
    "#     }\n",
    "\n",
    "#     doc_type_ ='a_doc_type'\n",
    "#     index_ ='an_index'\n",
    "    es.update_by_query(body = q, doc_type = doc_type_, index = index_)\n",
    "    print(\"done\")\n",
    "# Note: if error: \"reason\": \"scripts of type [inline], operation [search] and lang [groovy] are disabled\"\n",
    "#    -> put the 2 lines \"script.inline: on\" and \"script.indexed: on\" in elasticsearch.yml"
   ]
  },
  {
   "cell_type": "code",
   "execution_count": null,
   "metadata": {},
   "outputs": [],
   "source": [
    "# update = esclient.update(\n",
    "#     index='a_index',\n",
    "#     doc_type='a_doc_type',\n",
    "#     id=\"a_id\",\n",
    "#     body={\n",
    "#        \"doc\" : {\"value\" : 123}\n",
    "#     }\n",
    "#     )\n"
   ]
  },
  {
   "cell_type": "code",
   "execution_count": null,
   "metadata": {},
   "outputs": [],
   "source": [
    "# q = {\n",
    "#      \"script\": {\n",
    "#         \"inline\": \"ctx._source.transfers='Test'\",\n",
    "#         \"lang\": \"painless\"\n",
    "#      },\n",
    "#      \"query\": {\n",
    "#         \"match\": {\n",
    "#             \"Device\": \"Boiler\"\n",
    "#         }\n",
    "#      }\n",
    "# }\n",
    "# doc_type_ ='a_doc_type'\n",
    "# index_ ='an_index'\n",
    "# es.update_by_query(body=q, doc_type=doc_type_, index=index_)\n"
   ]
  }
 ],
 "metadata": {
  "kernelspec": {
   "display_name": "Python 3",
   "language": "python",
   "name": "python3"
  },
  "language_info": {
   "codemirror_mode": {
    "name": "ipython",
    "version": 3
   },
   "file_extension": ".py",
   "mimetype": "text/x-python",
   "name": "python",
   "nbconvert_exporter": "python",
   "pygments_lexer": "ipython3",
   "version": "3.6.5"
  }
 },
 "nbformat": 4,
 "nbformat_minor": 2
}
