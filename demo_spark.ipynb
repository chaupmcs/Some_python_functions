{
 "cells": [
  {
   "cell_type": "code",
   "execution_count": 1,
   "metadata": {},
   "outputs": [
    {
     "data": {
      "text/plain": [
       "[('spark.driver.port', '57750'),\n",
       " ('spark.driver.host', '192.168.0.6'),\n",
       " ('spark.driver.maxResultSize', '4G'),\n",
       " ('spark.master', 'local[4]'),\n",
       " ('spark.rdd.compress', 'True'),\n",
       " ('spark.serializer.objectStreamReset', '100'),\n",
       " ('spark.app.id', 'local-1581409165825'),\n",
       " ('spark.executor.id', 'driver'),\n",
       " ('spark.submit.deployMode', 'client'),\n",
       " ('spark.driver.memory', '4G'),\n",
       " ('spark.executor.memory', '4G'),\n",
       " ('spark.app.name', 'Demo_Spark'),\n",
       " ('spark.ui.showConsoleProgress', 'true')]"
      ]
     },
     "execution_count": 1,
     "metadata": {},
     "output_type": "execute_result"
    }
   ],
   "source": [
    "from pyspark.sql import *\n",
    "from pyspark.sql.functions import *\n",
    "import random\n",
    "import time\n",
    "builder = SparkSession.builder\n",
    "builder = builder.config(\"spark.executor.memory\", \"4G\")\n",
    "builder = builder.config(\"spark.driver.memory\", \"4G\")\n",
    "builder = builder.config(\"spark.driver.maxResultSize\", \"4G\")\n",
    "\n",
    "spark = (SparkSession\n",
    ".builder\n",
    ".master(\"local[4]\")\n",
    ".appName(\"Demo_Spark\")\n",
    ".getOrCreate())\n",
    "\n",
    "sc = spark.sparkContext\n",
    "\n",
    "from pyspark.sql import SQLContext\n",
    "sqlContext = SQLContext(sc)\n",
    "spark.sparkContext._conf.getAll()"
   ]
  },
  {
   "cell_type": "code",
   "execution_count": 2,
   "metadata": {},
   "outputs": [],
   "source": [
    "NUM_SAMPLES = 20000000"
   ]
  },
  {
   "cell_type": "code",
   "execution_count": 3,
   "metadata": {},
   "outputs": [
    {
     "name": "stdout",
     "output_type": "stream",
     "text": [
      "Pi is roughly 3.1413758, running time = 8.834151029586792\n"
     ]
    }
   ],
   "source": [
    "### Use SPARK\n",
    "def inside(P):\n",
    "    x, y = random.random(), random.random()\n",
    "    return x*x + y*y < 1\n",
    "start = time.time()\n",
    "count = sc.parallelize(range(NUM_SAMPLES)).filter(inside).count()\n",
    "print(\"Pi is roughly {}, running time = {}\".format(( 4.0 * count / NUM_SAMPLES), time.time()-start))"
   ]
  },
  {
   "cell_type": "code",
   "execution_count": 4,
   "metadata": {},
   "outputs": [
    {
     "name": "stdout",
     "output_type": "stream",
     "text": [
      "Pi is roughly 3.1415638, running time = 9.560472965240479\n"
     ]
    }
   ],
   "source": [
    "### USE Traditional Way\n",
    "def inside():\n",
    "    x, y = random.random(), random.random()\n",
    "    return x*x + y*y < 1\n",
    "count = 0\n",
    "\n",
    "start = time.time()\n",
    "for i in range(NUM_SAMPLES):\n",
    "    if inside():\n",
    "        count+=1\n",
    "print(\"Pi is roughly {}, running time = {}\".format(( 4.0 * count / NUM_SAMPLES), time.time()-start))"
   ]
  }
 ],
 "metadata": {
  "kernelspec": {
   "display_name": "py37_env",
   "language": "python",
   "name": "py37_env"
  },
  "language_info": {
   "codemirror_mode": {
    "name": "ipython",
    "version": 3
   },
   "file_extension": ".py",
   "mimetype": "text/x-python",
   "name": "python",
   "nbconvert_exporter": "python",
   "pygments_lexer": "ipython3",
   "version": "3.7.6"
  },
  "toc": {
   "base_numbering": 1,
   "nav_menu": {},
   "number_sections": true,
   "sideBar": true,
   "skip_h1_title": false,
   "title_cell": "Table of Contents",
   "title_sidebar": "Contents",
   "toc_cell": false,
   "toc_position": {},
   "toc_section_display": true,
   "toc_window_display": false
  }
 },
 "nbformat": 4,
 "nbformat_minor": 2
}
