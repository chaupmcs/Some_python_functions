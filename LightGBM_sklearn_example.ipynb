{
 "cells": [
  {
   "cell_type": "code",
   "execution_count": 244,
   "metadata": {},
   "outputs": [
    {
     "data": {
      "text/html": [
       "<style>.container { width:100% !important; }</style>"
      ],
      "text/plain": [
       "<IPython.core.display.HTML object>"
      ]
     },
     "metadata": {},
     "output_type": "display_data"
    }
   ],
   "source": [
    "# coding: utf-8\n",
    "# pylint: disable = invalid-name, C0111\n",
    "import numpy as np\n",
    "import pandas as pd\n",
    "import lightgbm as lgb\n",
    "\n",
    "%matplotlib inline\n",
    "import matplotlib.pyplot as plt\n",
    "\n",
    "from IPython.core.display import display, HTML\n",
    "display(HTML(\"<style>.container { width:100% !important; }</style>\"))\n",
    "\n",
    "import os\n",
    "os.environ['KMP_DUPLICATE_LIB_OK']='True'  # fix error on MAC_OS\n",
    "\n",
    "import numpy as np\n",
    "\n",
    "from sklearn.datasets import make_hastie_10_2\n",
    "from sklearn.model_selection import GridSearchCV\n",
    "from sklearn.metrics import make_scorer\n",
    "from sklearn.metrics import accuracy_score\n",
    "from sklearn.tree import DecisionTreeClassifier\n",
    "\n",
    "from sklearn.metrics import mean_squared_error\n",
    "\n",
    "import sklearn\n",
    "\n",
    "from sklearn.naive_bayes import GaussianNB\n",
    "from sklearn.datasets import load_digits\n",
    "from sklearn.model_selection import learning_curve, validation_curve\n",
    "from sklearn.model_selection import ShuffleSplit\n",
    "\n",
    "\n",
    "import json"
   ]
  },
  {
   "cell_type": "code",
   "execution_count": 152,
   "metadata": {},
   "outputs": [
    {
     "name": "stdout",
     "output_type": "stream",
     "text": [
      "Loading data...\n",
      "Done load data\n"
     ]
    }
   ],
   "source": [
    "#### LOAD DATA \n",
    "print('Loading data...')\n",
    "# load or create your dataset\n",
    "df_train = pd.read_csv('../regression/regression.train', header=None, sep='\\t')\n",
    "df_test = pd.read_csv('../regression/regression.test', header=None, sep='\\t')\n",
    "\n",
    "y_train = df_train[0]\n",
    "y_test = df_test[0]\n",
    "X_train = df_train.drop(0, axis=1)\n",
    "X_test = df_test.drop(0, axis=1)\n",
    "\n",
    "print(\"Done load data\")"
   ]
  },
  {
   "cell_type": "markdown",
   "metadata": {},
   "source": [
    "# BASIC USE \n"
   ]
  },
  {
   "cell_type": "code",
   "execution_count": 166,
   "metadata": {},
   "outputs": [
    {
     "name": "stdout",
     "output_type": "stream",
     "text": [
      "Starting training...\n",
      "gbm = LGBMRegressor(boosting_type='gbdt', class_weight=None, colsample_bytree=1.0,\n",
      "       importance_type='gain', learning_rate=0.1, max_depth=10,\n",
      "       min_child_samples=20, min_child_weight=0.001, min_split_gain=0.0,\n",
      "       n_estimators=200, n_jobs=2, num_leaves=32,\n",
      "       objective='regression_l2', random_state=None, reg_alpha=0.0,\n",
      "       reg_lambda=0.0, silent=False, subsample=1.0,\n",
      "       subsample_for_bin=200000, subsample_freq=0)\n",
      "--------\n",
      "Training until validation scores don't improve for 5 rounds.\n",
      "[10]\ttraining's l2: 0.189854\ttraining's RMSLE_NAME: 0.308373\tvalid_1's l2: 0.195852\tvalid_1's RMSLE_NAME: 0.310088\n",
      "[20]\ttraining's l2: 0.166656\ttraining's RMSLE_NAME: 0.288926\tvalid_1's l2: 0.18119\tvalid_1's RMSLE_NAME: 0.297588\n",
      "[30]\ttraining's l2: 0.151799\ttraining's RMSLE_NAME: 0.275926\tvalid_1's l2: 0.174135\tvalid_1's RMSLE_NAME: 0.291133\n",
      "Early stopping, best iteration is:\n",
      "[34]\ttraining's l2: 0.146961\ttraining's RMSLE_NAME: 0.271603\tvalid_1's l2: 0.173624\tvalid_1's RMSLE_NAME: 0.290576\n",
      "Starting predicting...\n",
      "The rmse of prediction is: 0.416682665328729\n"
     ]
    }
   ],
   "source": [
    "print('Starting training...')\n",
    "# train \n",
    "\n",
    "params = {\n",
    "   'boosting_type':'gbdt', \n",
    "   'class_weight':None, 'colsample_bytree':1.0,\n",
    "   'importance_type':'gain', 'learning_rate':0.1, 'max_depth':10,\n",
    "   'min_child_samples':20, 'min_child_weight':0.001, 'min_split_gain':0.0,\n",
    "   'n_estimators':200, 'n_jobs':2, 'num_leaves':32, 'objective': 'mean_squared_error',\n",
    "   'random_state':None, 'reg_alpha':0.0, 'reg_lambda':0.0, 'silent':False,\n",
    "   'subsample':1.0, 'subsample_for_bin':200000, 'subsample_freq':0\n",
    "}\n",
    "\n",
    "lgb_model = lgb.LGBMRegressor(**params)\n",
    "print(\"gbm = {}\\n--------\".format(gbm))\n",
    "\n",
    "\n",
    "\n",
    "# self-defined eval metric\n",
    "# f(y_true: array, y_pred: array) -> name: string, eval_result: float, is_higher_better: bool\n",
    "# Root Mean Squared Logarithmic Error (RMSLE)\n",
    "def rmsle_func(y_true, y_pred):\n",
    "    return 'RMSLE_NAME', np.sqrt(np.mean(np.power(np.log1p(y_pred) - np.log1p(y_true), 2))), False\n",
    "\n",
    "\n",
    "record_store = dict()\n",
    "lgb_model.fit(X_train, y_train, eval_set=[(X_train, y_train), (X_test, y_test)], eval_metric = rmsle_func, \\\n",
    "              early_stopping_rounds=5, verbose = 10, callbacks = [lgb.record_evaluation(record_store)])\n",
    "\n",
    "print('Starting predicting...')\n",
    "# predict\n",
    "y_pred = lgb_model.predict(X_test, num_iteration=gbm.best_iteration_)\n",
    "# eval\n",
    "print('The rmse of prediction is:', mean_squared_error(y_test, y_pred) ** 0.5)"
   ]
  },
  {
   "cell_type": "markdown",
   "metadata": {},
   "source": [
    "## Plot metric during training"
   ]
  },
  {
   "cell_type": "code",
   "execution_count": 167,
   "metadata": {},
   "outputs": [
    {
     "data": {
      "text/html": [
       "<div>\n",
       "<style scoped>\n",
       "    .dataframe tbody tr th:only-of-type {\n",
       "        vertical-align: middle;\n",
       "    }\n",
       "\n",
       "    .dataframe tbody tr th {\n",
       "        vertical-align: top;\n",
       "    }\n",
       "\n",
       "    .dataframe thead th {\n",
       "        text-align: right;\n",
       "    }\n",
       "</style>\n",
       "<table border=\"1\" class=\"dataframe\">\n",
       "  <thead>\n",
       "    <tr style=\"text-align: right;\">\n",
       "      <th></th>\n",
       "      <th>training</th>\n",
       "      <th>valid_1</th>\n",
       "    </tr>\n",
       "  </thead>\n",
       "  <tbody>\n",
       "    <tr>\n",
       "      <th>RMSLE_NAME</th>\n",
       "      <td>[0.3438312429913439, 0.3378780233904609, 0.332...</td>\n",
       "      <td>[0.3413526395461168, 0.33536859371159383, 0.33...</td>\n",
       "    </tr>\n",
       "    <tr>\n",
       "      <th>l2</th>\n",
       "      <td>[0.23854862758873377, 0.229717844884507, 0.222...</td>\n",
       "      <td>[0.237514285089172, 0.22882862025011821, 0.222...</td>\n",
       "    </tr>\n",
       "  </tbody>\n",
       "</table>\n",
       "</div>"
      ],
      "text/plain": [
       "                                                     training  \\\n",
       "RMSLE_NAME  [0.3438312429913439, 0.3378780233904609, 0.332...   \n",
       "l2          [0.23854862758873377, 0.229717844884507, 0.222...   \n",
       "\n",
       "                                                      valid_1  \n",
       "RMSLE_NAME  [0.3413526395461168, 0.33536859371159383, 0.33...  \n",
       "l2          [0.237514285089172, 0.22882862025011821, 0.222...  "
      ]
     },
     "execution_count": 167,
     "metadata": {},
     "output_type": "execute_result"
    }
   ],
   "source": [
    "pd.DataFrame(record_store)"
   ]
  },
  {
   "cell_type": "code",
   "execution_count": 170,
   "metadata": {},
   "outputs": [
    {
     "data": {
      "text/plain": [
       "<matplotlib.axes._subplots.AxesSubplot at 0x1a4c1e43c8>"
      ]
     },
     "execution_count": 170,
     "metadata": {},
     "output_type": "execute_result"
    },
    {
     "data": {
      "image/png": "[encoded data removed]",
      "text/plain": [
       "<Figure size 432x288 with 1 Axes>"
      ]
     },
     "metadata": {
      "needs_background": "light"
     },
     "output_type": "display_data"
    },
    {
     "data": {
      "image/png": "[encoded data removed]",
      "text/plain": [
       "<Figure size 432x288 with 1 Axes>"
      ]
     },
     "metadata": {
      "needs_background": "light"
     },
     "output_type": "display_data"
    }
   ],
   "source": [
    "lgb.plot_metric(record_store, metric = 'RMSLE_NAME')\n",
    "lgb.plot_metric(record_store, metric = 'l2')"
   ]
  },
  {
   "cell_type": "markdown",
   "metadata": {},
   "source": [
    "## Plot individual tree"
   ]
  },
  {
   "cell_type": "code",
   "execution_count": 242,
   "metadata": {},
   "outputs": [
    {
     "name": "stdout",
     "output_type": "stream",
     "text": [
      "Plotting 11th tree with graphviz...\n"
     ]
    },
    {
     "data": {
      "text/plain": [
       "'Tree_11.gv.pdf'"
      ]
     },
     "execution_count": 242,
     "metadata": {},
     "output_type": "execute_result"
    }
   ],
   "source": [
    "tree_i = 11\n",
    "print('Plotting {}th tree with graphviz...'.format(tree_i))\n",
    "graph = lgb.create_tree_digraph(lgb_model, tree_index= tree_i - 1, name='Tree_'+ str(tree_i)) # tree_index default = 0\n",
    "graph\n",
    "\n",
    "### show in pdf\n",
    "graph.render(view=True)    \n"
   ]
  },
  {
   "cell_type": "code",
   "execution_count": 172,
   "metadata": {},
   "outputs": [
    {
     "data": {
      "text/plain": [
       "<matplotlib.axes._subplots.AxesSubplot at 0x1a4c2c3710>"
      ]
     },
     "execution_count": 172,
     "metadata": {},
     "output_type": "execute_result"
    },
    {
     "data": {
      "image/png": "[encoded data removed]",
      "text/plain": [
       "<Figure size 1440x720 with 1 Axes>"
      ]
     },
     "metadata": {
      "needs_background": "light"
     },
     "output_type": "display_data"
    }
   ],
   "source": [
    "# plot feature importances\n",
    "feature_names = list(range(X_train.shape[1]))\n",
    "lgbm_feature_importance = pd.DataFrame(lgb_model.feature_importances_, index=feature_names, columns=[\"score\"]).sort_values(by=\"score\", ascending=False)\n",
    "lgbm_feature_importance.nlargest(40, columns=\"score\").plot(kind='barh', figsize = (20,10))"
   ]
  },
  {
   "cell_type": "code",
   "execution_count": 245,
   "metadata": {},
   "outputs": [
    {
     "name": "stdout",
     "output_type": "stream",
     "text": [
      "[10]\ttraining's binary_logloss: 0.622722\n",
      "[20]\ttraining's binary_logloss: 0.57958\n",
      "[30]\ttraining's binary_logloss: 0.551887\n"
     ]
    }
   ],
   "source": [
    "#############\n",
    "#### USE light gbm with python (not SKlearn wrapper)\n",
    "# params_2 = {\n",
    "#     'boosting_type': 'gbdt',\n",
    "#     'objective': 'binary',\n",
    "#     'metric': 'binary_logloss',\n",
    "#     'num_leaves': 31,\n",
    "#     'learning_rate': 0.05,\n",
    "#     'feature_fraction': 0.9,\n",
    "#     'bagging_fraction': 0.2,\n",
    "#     'bagging_freq': 1,\n",
    "# }\n",
    "\n",
    "# lgb_train = lgb.Dataset(X_train, y_train)\n",
    "# gbm_2 = lgb.train(params=params_2,train_set=lgb_train,\n",
    "#                 num_boost_round=30, verbose_eval = 10,\n",
    "#                 valid_sets=lgb_train)\n",
    "\n",
    "\n",
    "\n",
    "###### dump to txt and json files\n",
    "\n",
    "# gbm_2.save_model('model.txt')\n",
    "\n",
    "# model_json = gbm_2.dump_model()\n",
    "# with open('model.json', 'w+') as f:\n",
    "#     json.dump(model_json, f, indent=4)"
   ]
  },
  {
   "cell_type": "code",
   "execution_count": null,
   "metadata": {},
   "outputs": [],
   "source": []
  },
  {
   "cell_type": "code",
   "execution_count": null,
   "metadata": {},
   "outputs": [],
   "source": []
  },
  {
   "cell_type": "code",
   "execution_count": null,
   "metadata": {},
   "outputs": [],
   "source": []
  },
  {
   "cell_type": "markdown",
   "metadata": {},
   "source": [
    "## Grid Search"
   ]
  },
  {
   "cell_type": "code",
   "execution_count": 246,
   "metadata": {},
   "outputs": [
    {
     "name": "stdout",
     "output_type": "stream",
     "text": [
      "estimator = LGBMRegressor(boosting_type='gbdt', class_weight=None, colsample_bytree=1.0,\n",
      "       importance_type='gain', learning_rate=0.1, max_depth=10,\n",
      "       min_child_samples=21, min_child_weight=0.001, min_split_gain=0.0,\n",
      "       n_estimators=200, n_jobs=2, num_leaves=32, objective=None,\n",
      "       random_state=2019, reg_alpha=0.0, reg_lambda=0.0, silent=False,\n",
      "       subsample=1.0, subsample_for_bin=200000, subsample_freq=0)\n",
      "--------\n"
     ]
    }
   ],
   "source": [
    "# other scikit-learn modules\n",
    "from sklearn.model_selection import StratifiedKFold\n",
    "\n",
    "grid_record = dict()\n",
    "random_seed = 2019\n",
    "num_splits = 3\n",
    "\n",
    "lgb_params = {\n",
    "   'boosting_type':'gbdt', 'class_weight':None, 'colsample_bytree':1.0,\n",
    "   'importance_type':'gain', 'learning_rate':0.1, 'max_depth':10,\n",
    "   'min_child_samples':21, 'min_child_weight':0.001, 'min_split_gain':0.0,\n",
    "   'n_estimators':200, 'n_jobs':2, 'num_leaves':32, 'objective':None,\n",
    "   'random_state': random_seed, 'reg_alpha':0.0, 'reg_lambda':0.0, 'silent':False,\n",
    "   'subsample':1.0, 'subsample_for_bin':200000, 'subsample_freq':0\n",
    "}\n",
    "\n",
    "param_grid = {\n",
    "    'learning_rate': [0.05, 0.1],\n",
    "    'n_estimators': [100]\n",
    "}\n",
    "\n",
    "estimator = lgb.LGBMRegressor(**lgb_params)\n",
    "print(\"estimator = {}\\n--------\".format(estimator))\n",
    "\n",
    "cv = StratifiedKFold(n_splits = num_splits, random_state = random_seed)"
   ]
  },
  {
   "cell_type": "code",
   "execution_count": 190,
   "metadata": {},
   "outputs": [
    {
     "name": "stdout",
     "output_type": "stream",
     "text": [
      "Fitting 3 folds for each of 2 candidates, totalling 6 fits\n"
     ]
    },
    {
     "name": "stderr",
     "output_type": "stream",
     "text": [
      "[Parallel(n_jobs=-1)]: Using backend LokyBackend with 4 concurrent workers.\n",
      "[Parallel(n_jobs=-1)]: Done   2 out of   6 | elapsed:    2.0s remaining:    3.9s\n",
      "[Parallel(n_jobs=-1)]: Done   3 out of   6 | elapsed:    2.0s remaining:    2.0s\n",
      "[Parallel(n_jobs=-1)]: Done   4 out of   6 | elapsed:    2.1s remaining:    1.0s\n",
      "[Parallel(n_jobs=-1)]: Done   6 out of   6 | elapsed:    2.5s remaining:    0.0s\n",
      "[Parallel(n_jobs=-1)]: Done   6 out of   6 | elapsed:    2.5s finished\n"
     ]
    },
    {
     "name": "stdout",
     "output_type": "stream",
     "text": [
      "Best parameters found by grid search are: {'learning_rate': 0.05, 'n_estimators': 100}\n",
      "CPU times: user 849 ms, sys: 13.5 ms, total: 862 ms\n",
      "Wall time: 2.97 s\n"
     ]
    }
   ],
   "source": [
    "%%time\n",
    "\n",
    "##### sorted(sklearn.metrics.SCORERS.keys())   # Scorers in grid\n",
    "## method 1:\n",
    "grid_model = GridSearchCV(estimator, param_grid, cv = cv, verbose=10, return_train_score = False,\\\n",
    "                              scoring = \"neg_mean_squared_error\", n_jobs=-1)\n",
    "\n",
    "\n",
    "## method 2: use self-defined func\n",
    "# mean_squared_error_func = make_scorer(mean_squared_error, greater_is_better=True)\n",
    "# grid_model = GridSearchCV(estimator, param_grid, cv = cv, verbose=10, return_train_score = False,\\\n",
    "#                               scoring = mean_squared_error_func, n_jobs=-1)\n",
    "\n",
    "\n",
    "grid_model.fit(X_train, y_train)\n",
    "\n",
    "print('Best parameters found by grid search are:', grid_model.best_params_)"
   ]
  },
  {
   "cell_type": "code",
   "execution_count": 186,
   "metadata": {},
   "outputs": [
    {
     "data": {
      "text/plain": [
       "{'learning_rate': 0.1, 'n_estimators': 100}"
      ]
     },
     "execution_count": 186,
     "metadata": {},
     "output_type": "execute_result"
    }
   ],
   "source": [
    "grid_model.best_params_"
   ]
  },
  {
   "cell_type": "code",
   "execution_count": 191,
   "metadata": {},
   "outputs": [
    {
     "data": {
      "text/html": [
       "<div>\n",
       "<style scoped>\n",
       "    .dataframe tbody tr th:only-of-type {\n",
       "        vertical-align: middle;\n",
       "    }\n",
       "\n",
       "    .dataframe tbody tr th {\n",
       "        vertical-align: top;\n",
       "    }\n",
       "\n",
       "    .dataframe thead th {\n",
       "        text-align: right;\n",
       "    }\n",
       "</style>\n",
       "<table border=\"1\" class=\"dataframe\">\n",
       "  <thead>\n",
       "    <tr style=\"text-align: right;\">\n",
       "      <th></th>\n",
       "      <th>mean_fit_time</th>\n",
       "      <th>std_fit_time</th>\n",
       "      <th>mean_score_time</th>\n",
       "      <th>std_score_time</th>\n",
       "      <th>param_learning_rate</th>\n",
       "      <th>param_n_estimators</th>\n",
       "      <th>params</th>\n",
       "      <th>split0_test_score</th>\n",
       "      <th>split1_test_score</th>\n",
       "      <th>split2_test_score</th>\n",
       "      <th>mean_test_score</th>\n",
       "      <th>std_test_score</th>\n",
       "      <th>rank_test_score</th>\n",
       "    </tr>\n",
       "  </thead>\n",
       "  <tbody>\n",
       "    <tr>\n",
       "      <th>0</th>\n",
       "      <td>1.960594</td>\n",
       "      <td>0.052295</td>\n",
       "      <td>0.027808</td>\n",
       "      <td>0.004337</td>\n",
       "      <td>0.05</td>\n",
       "      <td>100</td>\n",
       "      <td>{'learning_rate': 0.05, 'n_estimators': 100}</td>\n",
       "      <td>-0.192454</td>\n",
       "      <td>-0.194744</td>\n",
       "      <td>-0.193215</td>\n",
       "      <td>-0.193471</td>\n",
       "      <td>0.000953</td>\n",
       "      <td>1</td>\n",
       "    </tr>\n",
       "    <tr>\n",
       "      <th>1</th>\n",
       "      <td>0.991924</td>\n",
       "      <td>0.537280</td>\n",
       "      <td>0.021832</td>\n",
       "      <td>0.002532</td>\n",
       "      <td>0.1</td>\n",
       "      <td>100</td>\n",
       "      <td>{'learning_rate': 0.1, 'n_estimators': 100}</td>\n",
       "      <td>-0.197033</td>\n",
       "      <td>-0.199623</td>\n",
       "      <td>-0.198399</td>\n",
       "      <td>-0.198352</td>\n",
       "      <td>0.001058</td>\n",
       "      <td>2</td>\n",
       "    </tr>\n",
       "  </tbody>\n",
       "</table>\n",
       "</div>"
      ],
      "text/plain": [
       "   mean_fit_time  std_fit_time  mean_score_time  std_score_time  \\\n",
       "0       1.960594      0.052295         0.027808        0.004337   \n",
       "1       0.991924      0.537280         0.021832        0.002532   \n",
       "\n",
       "  param_learning_rate param_n_estimators  \\\n",
       "0                0.05                100   \n",
       "1                 0.1                100   \n",
       "\n",
       "                                         params  split0_test_score  \\\n",
       "0  {'learning_rate': 0.05, 'n_estimators': 100}          -0.192454   \n",
       "1   {'learning_rate': 0.1, 'n_estimators': 100}          -0.197033   \n",
       "\n",
       "   split1_test_score  split2_test_score  mean_test_score  std_test_score  \\\n",
       "0          -0.194744          -0.193215        -0.193471        0.000953   \n",
       "1          -0.199623          -0.198399        -0.198352        0.001058   \n",
       "\n",
       "   rank_test_score  \n",
       "0                1  \n",
       "1                2  "
      ]
     },
     "execution_count": 191,
     "metadata": {},
     "output_type": "execute_result"
    }
   ],
   "source": [
    "pd.DataFrame(grid_model.cv_results_).sort_values('rank_test_score')"
   ]
  },
  {
   "cell_type": "markdown",
   "metadata": {},
   "source": [
    "### plot learning curve (training_valid errors by num_data_size)"
   ]
  },
  {
   "cell_type": "code",
   "execution_count": 194,
   "metadata": {},
   "outputs": [
    {
     "data": {
      "text/plain": [
       "<module 'matplotlib.pyplot' from '/anaconda3/envs/py36_env/lib/python3.6/site-packages/matplotlib/pyplot.py'>"
      ]
     },
     "execution_count": 194,
     "metadata": {},
     "output_type": "execute_result"
    },
    {
     "data": {
      "image/png": "[encoded data removed]",
      "text/plain": [
       "<Figure size 432x288 with 1 Axes>"
      ]
     },
     "metadata": {
      "needs_background": "light"
     },
     "output_type": "display_data"
    }
   ],
   "source": [
    "\n",
    "def plot_learning_curve(estimator, title, X, y, ylim=None, cv=None,\n",
    "                        n_jobs=1, train_sizes=np.linspace(.1, 1.0, 5)):\n",
    "    \"\"\"\n",
    "    Generate a simple plot of the test and traning learning curve.\n",
    "\n",
    "    Parameters\n",
    "    ----------\n",
    "    estimator : object type that implements the \"fit\" and \"predict\" methods\n",
    "        An object of that type which is cloned for each validation.\n",
    "\n",
    "    title : string\n",
    "        Title for the chart.\n",
    "\n",
    "    X : array-like, shape (n_samples, n_features)\n",
    "        Training vector, where n_samples is the number of samples and\n",
    "        n_features is the number of features.\n",
    "\n",
    "    y : array-like, shape (n_samples) or (n_samples, n_features), optional\n",
    "        Target relative to X for classification or regression;\n",
    "        None for unsupervised learning.\n",
    "\n",
    "    ylim : tuple, shape (ymin, ymax), optional\n",
    "        Defines minimum and maximum yvalues plotted.\n",
    "\n",
    "    cv : integer, cross-validation generator, optional\n",
    "        If an integer is passed, it is the number of folds (defaults to 3).\n",
    "        Specific cross-validation objects can be passed, see\n",
    "        sklearn.cross_validation module for the list of possible objects\n",
    "\n",
    "    n_jobs : integer, optional\n",
    "        Number of jobs to run in parallel (default 1).\n",
    "    \"\"\"\n",
    "    plt.figure()\n",
    "    plt.title(title)\n",
    "    if ylim is not None:\n",
    "        plt.ylim(*ylim)\n",
    "    plt.xlabel(\"Training examples\")\n",
    "    plt.ylabel(\"Score\")\n",
    "    train_sizes, train_scores, test_scores = learning_curve(\n",
    "        estimator, X, y, cv = cv, n_jobs=n_jobs, train_sizes = train_sizes)\n",
    "    train_scores_mean = np.mean(train_scores, axis=1)\n",
    "    train_scores_std = np.std(train_scores, axis=1)\n",
    "    test_scores_mean = np.mean(test_scores, axis=1)\n",
    "    test_scores_std = np.std(test_scores, axis=1)\n",
    "    plt.grid()\n",
    "\n",
    "    plt.fill_between(train_sizes, train_scores_mean - train_scores_std,\n",
    "                     train_scores_mean + train_scores_std, alpha=0.1,\n",
    "                     color=\"r\")\n",
    "    plt.fill_between(train_sizes, test_scores_mean - test_scores_std,\n",
    "                     test_scores_mean + test_scores_std, alpha=0.1, color=\"g\")\n",
    "    plt.plot(train_sizes, train_scores_mean, 'o-', color=\"r\",\n",
    "             label=\"Training score\")\n",
    "    plt.plot(train_sizes, test_scores_mean, 'o-', color=\"g\",\n",
    "             label=\"Cross-validation score\")\n",
    "\n",
    "    plt.legend(loc=\"best\")\n",
    "    return plt\n",
    "\n",
    "\n",
    "plot_learning_curve(grid_model.best_estimator_, \"plot learning curve\", X_train, y_train, ylim=(0, 1.05), cv = cv, n_jobs= -1)"
   ]
  },
  {
   "cell_type": "code",
   "execution_count": null,
   "metadata": {},
   "outputs": [],
   "source": []
  }
 ],
 "metadata": {
  "kernelspec": {
   "display_name": "python3.6",
   "language": "python",
   "name": "python3.6"
  },
  "language_info": {
   "codemirror_mode": {
    "name": "ipython",
    "version": 3
   },
   "file_extension": ".py",
   "mimetype": "text/x-python",
   "name": "python",
   "nbconvert_exporter": "python",
   "pygments_lexer": "ipython3",
   "version": "3.6.6"
  }
 },
 "nbformat": 4,
 "nbformat_minor": 2
}
